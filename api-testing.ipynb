{
 "cells": [
  {
   "cell_type": "code",
   "execution_count": null,
   "id": "d6be6ca8",
   "metadata": {},
   "outputs": [],
   "source": [
    "import requests\n",
    "import base64\n",
    "\n",
    "url = \"http://127.0.0.1:8502/api/v1/object_detection\"\n",
    "payload = {\n",
    "    \"url\": [\"https://cdn.pixabay.com/photo/2019/06/19/16/40/bridge-4285310_960_720.jpg\"],\n",
    "    \"user_id\": \"test@example.com\"\n",
    "}\n",
    "response = requests.post(url, json=payload)\n",
    "response_data = response.json()\n",
    "base64_image = response_data[\"image\"][0]"
   ]
  },
  {
   "cell_type": "code",
   "execution_count": 5,
   "id": "f1462bfb",
   "metadata": {},
   "outputs": [],
   "source": [
    "image_data = base64.b64decode(base64_image)\n",
    "with open(\"output.jpg\", \"wb\") as f:\n",
    "    f.write(image_data)\n"
   ]
  }
 ],
 "metadata": {
  "kernelspec": {
   "display_name": "base",
   "language": "python",
   "name": "python3"
  },
  "language_info": {
   "codemirror_mode": {
    "name": "ipython",
    "version": 3
   },
   "file_extension": ".py",
   "mimetype": "text/x-python",
   "name": "python",
   "nbconvert_exporter": "python",
   "pygments_lexer": "ipython3",
   "version": "3.12.7"
  }
 },
 "nbformat": 4,
 "nbformat_minor": 5
}
